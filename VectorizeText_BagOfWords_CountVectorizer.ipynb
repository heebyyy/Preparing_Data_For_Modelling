{
 "cells": [
  {
   "cell_type": "code",
   "execution_count": 1,
   "metadata": {},
   "outputs": [],
   "source": [
    "import sklearn\n",
    "\n",
    "from sklearn.feature_extraction.text import CountVectorizer"
   ]
  },
  {
   "cell_type": "code",
   "execution_count": 28,
   "metadata": {},
   "outputs": [],
   "source": [
    "train_text = [\"The Pessimist Sees Difficulty In Every Opportunity.\",\n",
    "              \"The Optimist Sees Opportunity In Every Difficulty.\",\n",
    "              \"Don’t Let Yesterday Take Up Too Much Of Today. \",\n",
    "              \"You Learn More From Failure Than From Success.\",\n",
    "              \"We May Encounter Many Defeats But We Must Not Be Defeated.\",\n",
    "              \"Life Is Either A Daring Adventure Or Nothing.\"]\n",
    "\n",
    "count_vectorizer = CountVectorizer()"
   ]
  },
  {
   "cell_type": "code",
   "execution_count": 29,
   "metadata": {},
   "outputs": [
    {
     "data": {
      "text/plain": [
       "CountVectorizer()"
      ]
     },
     "execution_count": 29,
     "metadata": {},
     "output_type": "execute_result"
    }
   ],
   "source": [
    "count_vectorizer.fit(train_text)"
   ]
  },
  {
   "cell_type": "code",
   "execution_count": 30,
   "metadata": {},
   "outputs": [
    {
     "data": {
      "text/plain": [
       "['adventure',\n",
       " 'be',\n",
       " 'but',\n",
       " 'daring',\n",
       " 'defeated',\n",
       " 'defeats',\n",
       " 'difficulty',\n",
       " 'don',\n",
       " 'either',\n",
       " 'encounter',\n",
       " 'every',\n",
       " 'failure',\n",
       " 'from',\n",
       " 'in',\n",
       " 'is',\n",
       " 'learn',\n",
       " 'let',\n",
       " 'life',\n",
       " 'many',\n",
       " 'may',\n",
       " 'more',\n",
       " 'much',\n",
       " 'must',\n",
       " 'not',\n",
       " 'nothing',\n",
       " 'of',\n",
       " 'opportunity',\n",
       " 'optimist',\n",
       " 'or',\n",
       " 'pessimist',\n",
       " 'sees',\n",
       " 'success',\n",
       " 'take',\n",
       " 'than',\n",
       " 'the',\n",
       " 'today',\n",
       " 'too',\n",
       " 'up',\n",
       " 'we',\n",
       " 'yesterday',\n",
       " 'you']"
      ]
     },
     "execution_count": 30,
     "metadata": {},
     "output_type": "execute_result"
    }
   ],
   "source": [
    "count_vectorizer.get_feature_names()"
   ]
  },
  {
   "cell_type": "code",
   "execution_count": 5,
   "metadata": {},
   "outputs": [
    {
     "data": {
      "text/plain": [
       "17"
      ]
     },
     "execution_count": 5,
     "metadata": {},
     "output_type": "execute_result"
    }
   ],
   "source": [
    "count_vectorizer.vocabulary_.get('life')"
   ]
  },
  {
   "cell_type": "code",
   "execution_count": 6,
   "metadata": {},
   "outputs": [
    {
     "data": {
      "text/plain": [
       "27"
      ]
     },
     "execution_count": 6,
     "metadata": {},
     "output_type": "execute_result"
    }
   ],
   "source": [
    "count_vectorizer.vocabulary_.get('optimist')"
   ]
  },
  {
   "cell_type": "code",
   "execution_count": 7,
   "metadata": {},
   "outputs": [
    {
     "data": {
      "text/plain": [
       "['The Pessimist Sees Difficulty In Every Opportunity.',\n",
       " 'The Optimist Sees Opportunity In Every Difficulty.',\n",
       " 'Don’t Let Yesterday Take Up Too Much Of Today. ',\n",
       " 'You Learn More From Failure Than From Success.',\n",
       " 'We May Encounter Many Defeats But We Must Not Be Defeated.',\n",
       " 'Life Is Either A Daring Adventure Or Nothing.']"
      ]
     },
     "execution_count": 7,
     "metadata": {},
     "output_type": "execute_result"
    }
   ],
   "source": [
    "train_text"
   ]
  },
  {
   "cell_type": "code",
   "execution_count": 8,
   "metadata": {},
   "outputs": [],
   "source": [
    "transformed_vector = count_vectorizer.transform(train_text)"
   ]
  },
  {
   "cell_type": "code",
   "execution_count": 9,
   "metadata": {},
   "outputs": [
    {
     "name": "stdout",
     "output_type": "stream",
     "text": [
      "(6, 41)\n"
     ]
    }
   ],
   "source": [
    "print(transformed_vector.shape)"
   ]
  },
  {
   "cell_type": "code",
   "execution_count": 10,
   "metadata": {},
   "outputs": [
    {
     "data": {
      "text/plain": [
       "[array(['difficulty', 'every', 'in', 'opportunity', 'pessimist', 'sees',\n",
       "        'the'], dtype='<U11'),\n",
       " array(['difficulty', 'every', 'in', 'opportunity', 'optimist', 'sees',\n",
       "        'the'], dtype='<U11'),\n",
       " array(['don', 'let', 'much', 'of', 'take', 'today', 'too', 'up',\n",
       "        'yesterday'], dtype='<U11'),\n",
       " array(['failure', 'from', 'learn', 'more', 'success', 'than', 'you'],\n",
       "       dtype='<U11'),\n",
       " array(['be', 'but', 'defeated', 'defeats', 'encounter', 'many', 'may',\n",
       "        'must', 'not', 'we'], dtype='<U11'),\n",
       " array(['adventure', 'daring', 'either', 'is', 'life', 'nothing', 'or'],\n",
       "       dtype='<U11')]"
      ]
     },
     "execution_count": 10,
     "metadata": {},
     "output_type": "execute_result"
    }
   ],
   "source": [
    "count_vectorizer.inverse_transform(transformed_vector)"
   ]
  },
  {
   "cell_type": "code",
   "execution_count": 11,
   "metadata": {},
   "outputs": [],
   "source": [
    "  test_text = [\"A room without books is like a body without a soul.\"]"
   ]
  },
  {
   "cell_type": "code",
   "execution_count": 12,
   "metadata": {},
   "outputs": [
    {
     "data": {
      "text/plain": [
       "CountVectorizer()"
      ]
     },
     "execution_count": 12,
     "metadata": {},
     "output_type": "execute_result"
    }
   ],
   "source": [
    "count_vectorizer.fit(train_text + test_text)"
   ]
  },
  {
   "cell_type": "code",
   "execution_count": 13,
   "metadata": {},
   "outputs": [
    {
     "data": {
      "text/plain": [
       "{'the': 39,\n",
       " 'pessimist': 32,\n",
       " 'sees': 34,\n",
       " 'difficulty': 8,\n",
       " 'in': 15,\n",
       " 'every': 12,\n",
       " 'opportunity': 29,\n",
       " 'optimist': 30,\n",
       " 'don': 9,\n",
       " 'let': 18,\n",
       " 'yesterday': 45,\n",
       " 'take': 37,\n",
       " 'up': 42,\n",
       " 'too': 41,\n",
       " 'much': 24,\n",
       " 'of': 28,\n",
       " 'today': 40,\n",
       " 'you': 46,\n",
       " 'learn': 17,\n",
       " 'more': 23,\n",
       " 'from': 14,\n",
       " 'failure': 13,\n",
       " 'than': 38,\n",
       " 'success': 36,\n",
       " 'we': 43,\n",
       " 'may': 22,\n",
       " 'encounter': 11,\n",
       " 'many': 21,\n",
       " 'defeats': 7,\n",
       " 'but': 4,\n",
       " 'must': 25,\n",
       " 'not': 26,\n",
       " 'be': 1,\n",
       " 'defeated': 6,\n",
       " 'life': 19,\n",
       " 'is': 16,\n",
       " 'either': 10,\n",
       " 'daring': 5,\n",
       " 'adventure': 0,\n",
       " 'or': 31,\n",
       " 'nothing': 27,\n",
       " 'room': 33,\n",
       " 'without': 44,\n",
       " 'books': 3,\n",
       " 'like': 20,\n",
       " 'body': 2,\n",
       " 'soul': 35}"
      ]
     },
     "execution_count": 13,
     "metadata": {},
     "output_type": "execute_result"
    }
   ],
   "source": [
    "count_vectorizer.vocabulary_"
   ]
  },
  {
   "cell_type": "code",
   "execution_count": 14,
   "metadata": {},
   "outputs": [
    {
     "data": {
      "text/plain": [
       "array([[0, 0, 1, 1, 0, 0, 0, 0, 0, 0, 0, 0, 0, 0, 0, 0, 1, 0, 0, 0, 1, 0,\n",
       "        0, 0, 0, 0, 0, 0, 0, 0, 0, 0, 0, 1, 0, 1, 0, 0, 0, 0, 0, 0, 0, 0,\n",
       "        2, 0, 0]], dtype=int64)"
      ]
     },
     "execution_count": 14,
     "metadata": {},
     "output_type": "execute_result"
    }
   ],
   "source": [
    "count_vectorizer.transform(test_text).toarray()"
   ]
  },
  {
   "cell_type": "code",
   "execution_count": 15,
   "metadata": {},
   "outputs": [
    {
     "data": {
      "text/plain": [
       "<2x47 sparse matrix of type '<class 'numpy.int64'>'\n",
       "\twith 8 stored elements in Compressed Sparse Row format>"
      ]
     },
     "execution_count": 15,
     "metadata": {},
     "output_type": "execute_result"
    }
   ],
   "source": [
    "text = [\"I'm a pessimist because of intelligence, but an optimist because of will.\",\n",
    "        \"Success is not final, failure is not fatal\"]\n",
    "\n",
    "transformed_vector = count_vectorizer.transform(text)\n",
    "\n",
    "transformed_vector"
   ]
  },
  {
   "cell_type": "code",
   "execution_count": 16,
   "metadata": {},
   "outputs": [
    {
     "name": "stdout",
     "output_type": "stream",
     "text": [
      "  (0, 4)\t1\n",
      "  (0, 28)\t2\n",
      "  (0, 30)\t1\n",
      "  (0, 32)\t1\n",
      "  (1, 13)\t1\n",
      "  (1, 16)\t2\n",
      "  (1, 26)\t2\n",
      "  (1, 36)\t1\n"
     ]
    }
   ],
   "source": [
    "print(transformed_vector)"
   ]
  },
  {
   "cell_type": "code",
   "execution_count": 17,
   "metadata": {},
   "outputs": [
    {
     "data": {
      "text/plain": [
       "(2, 47)"
      ]
     },
     "execution_count": 17,
     "metadata": {},
     "output_type": "execute_result"
    }
   ],
   "source": [
    "transformed_vector.shape"
   ]
  },
  {
   "cell_type": "code",
   "execution_count": 18,
   "metadata": {},
   "outputs": [
    {
     "name": "stdout",
     "output_type": "stream",
     "text": [
      "[[0 0 0 0 1 0 0 0 0 0 0 0 0 0 0 0 0 0 0 0 0 0 0 0 0 0 0 0 2 0 1 0 1 0 0 0\n",
      "  0 0 0 0 0 0 0 0 0 0 0]\n",
      " [0 0 0 0 0 0 0 0 0 0 0 0 0 1 0 0 2 0 0 0 0 0 0 0 0 0 2 0 0 0 0 0 0 0 0 0\n",
      "  1 0 0 0 0 0 0 0 0 0 0]]\n"
     ]
    }
   ],
   "source": [
    "print(transformed_vector.toarray())"
   ]
  },
  {
   "cell_type": "code",
   "execution_count": null,
   "metadata": {},
   "outputs": [],
   "source": []
  }
 ],
 "metadata": {
  "kernelspec": {
   "display_name": "Python 3",
   "language": "python",
   "name": "python3"
  },
  "language_info": {
   "codemirror_mode": {
    "name": "ipython",
    "version": 3
   },
   "file_extension": ".py",
   "mimetype": "text/x-python",
   "name": "python",
   "nbconvert_exporter": "python",
   "pygments_lexer": "ipython3",
   "version": "3.8.5"
  }
 },
 "nbformat": 4,
 "nbformat_minor": 4
}
