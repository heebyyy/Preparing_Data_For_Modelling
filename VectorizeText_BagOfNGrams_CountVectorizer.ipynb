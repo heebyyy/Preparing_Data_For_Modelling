{
 "cells": [
  {
   "cell_type": "code",
   "execution_count": 1,
   "metadata": {},
   "outputs": [],
   "source": [
    "from sklearn.feature_extraction.text import CountVectorizer"
   ]
  },
  {
   "cell_type": "code",
   "execution_count": 2,
   "metadata": {},
   "outputs": [],
   "source": [
    "train_text = [\"The Pessimist Sees Difficulty In Every Opportunity.\",\n",
    "              \"The Optimist Sees Opportunity In Every Difficulty.\",\n",
    "              \"Don’t Let Yesterday Take Up Too Much Of Today. \",\n",
    "              \"You Learn More From Failure Than From Success.\",\n",
    "              \"We May Encounter Many Defeats But We Must Not Be Defeated.\",\n",
    "              \"Life Is Either A Daring Adventure Or Nothing.\"]"
   ]
  },
  {
   "cell_type": "code",
   "execution_count": 3,
   "metadata": {},
   "outputs": [],
   "source": [
    "n_gram_vectorizer = CountVectorizer(ngram_range=(2, 2))"
   ]
  },
  {
   "cell_type": "code",
   "execution_count": 4,
   "metadata": {},
   "outputs": [],
   "source": [
    "transformed_vector = n_gram_vectorizer.fit_transform(train_text)"
   ]
  },
  {
   "cell_type": "code",
   "execution_count": 5,
   "metadata": {},
   "outputs": [
    {
     "data": {
      "text/plain": [
       "{'the pessimist': 35,\n",
       " 'pessimist sees': 29,\n",
       " 'sees difficulty': 30,\n",
       " 'difficulty in': 5,\n",
       " 'in every': 14,\n",
       " 'every opportunity': 10,\n",
       " 'the optimist': 34,\n",
       " 'optimist sees': 27,\n",
       " 'sees opportunity': 31,\n",
       " 'opportunity in': 26,\n",
       " 'every difficulty': 9,\n",
       " 'don let': 6,\n",
       " 'let yesterday': 17,\n",
       " 'yesterday take': 40,\n",
       " 'take up': 32,\n",
       " 'up too': 37,\n",
       " 'too much': 36,\n",
       " 'much of': 22,\n",
       " 'of today': 25,\n",
       " 'you learn': 41,\n",
       " 'learn more': 16,\n",
       " 'more from': 21,\n",
       " 'from failure': 12,\n",
       " 'failure than': 11,\n",
       " 'than from': 33,\n",
       " 'from success': 13,\n",
       " 'we may': 38,\n",
       " 'may encounter': 20,\n",
       " 'encounter many': 8,\n",
       " 'many defeats': 19,\n",
       " 'defeats but': 4,\n",
       " 'but we': 2,\n",
       " 'we must': 39,\n",
       " 'must not': 23,\n",
       " 'not be': 24,\n",
       " 'be defeated': 1,\n",
       " 'life is': 18,\n",
       " 'is either': 15,\n",
       " 'either daring': 7,\n",
       " 'daring adventure': 3,\n",
       " 'adventure or': 0,\n",
       " 'or nothing': 28}"
      ]
     },
     "execution_count": 5,
     "metadata": {},
     "output_type": "execute_result"
    }
   ],
   "source": [
    "n_gram_vectorizer.vocabulary_"
   ]
  },
  {
   "cell_type": "code",
   "execution_count": 6,
   "metadata": {},
   "outputs": [
    {
     "data": {
      "text/plain": [
       "array([[0, 0, 0, 0, 0, 1, 0, 0, 0, 0, 1, 0, 0, 0, 1, 0, 0, 0, 0, 0, 0, 0,\n",
       "        0, 0, 0, 0, 0, 0, 0, 1, 1, 0, 0, 0, 0, 1, 0, 0, 0, 0, 0, 0],\n",
       "       [0, 0, 0, 0, 0, 0, 0, 0, 0, 1, 0, 0, 0, 0, 1, 0, 0, 0, 0, 0, 0, 0,\n",
       "        0, 0, 0, 0, 1, 1, 0, 0, 0, 1, 0, 0, 1, 0, 0, 0, 0, 0, 0, 0],\n",
       "       [0, 0, 0, 0, 0, 0, 1, 0, 0, 0, 0, 0, 0, 0, 0, 0, 0, 1, 0, 0, 0, 0,\n",
       "        1, 0, 0, 1, 0, 0, 0, 0, 0, 0, 1, 0, 0, 0, 1, 1, 0, 0, 1, 0],\n",
       "       [0, 0, 0, 0, 0, 0, 0, 0, 0, 0, 0, 1, 1, 1, 0, 0, 1, 0, 0, 0, 0, 1,\n",
       "        0, 0, 0, 0, 0, 0, 0, 0, 0, 0, 0, 1, 0, 0, 0, 0, 0, 0, 0, 1],\n",
       "       [0, 1, 1, 0, 1, 0, 0, 0, 1, 0, 0, 0, 0, 0, 0, 0, 0, 0, 0, 1, 1, 0,\n",
       "        0, 1, 1, 0, 0, 0, 0, 0, 0, 0, 0, 0, 0, 0, 0, 0, 1, 1, 0, 0],\n",
       "       [1, 0, 0, 1, 0, 0, 0, 1, 0, 0, 0, 0, 0, 0, 0, 1, 0, 0, 1, 0, 0, 0,\n",
       "        0, 0, 0, 0, 0, 0, 1, 0, 0, 0, 0, 0, 0, 0, 0, 0, 0, 0, 0, 0]],\n",
       "      dtype=int64)"
      ]
     },
     "execution_count": 6,
     "metadata": {},
     "output_type": "execute_result"
    }
   ],
   "source": [
    "transformed_vector.toarray()"
   ]
  },
  {
   "cell_type": "code",
   "execution_count": 7,
   "metadata": {},
   "outputs": [
    {
     "data": {
      "text/plain": [
       "(6, 42)"
      ]
     },
     "execution_count": 7,
     "metadata": {},
     "output_type": "execute_result"
    }
   ],
   "source": [
    "transformed_vector.toarray().shape"
   ]
  },
  {
   "cell_type": "code",
   "execution_count": 8,
   "metadata": {},
   "outputs": [
    {
     "data": {
      "text/plain": [
       "[array(['the pessimist', 'pessimist sees', 'sees difficulty',\n",
       "        'difficulty in', 'in every', 'every opportunity'], dtype='<U17'),\n",
       " array(['in every', 'the optimist', 'optimist sees', 'sees opportunity',\n",
       "        'opportunity in', 'every difficulty'], dtype='<U17'),\n",
       " array(['don let', 'let yesterday', 'yesterday take', 'take up', 'up too',\n",
       "        'too much', 'much of', 'of today'], dtype='<U17'),\n",
       " array(['you learn', 'learn more', 'more from', 'from failure',\n",
       "        'failure than', 'than from', 'from success'], dtype='<U17'),\n",
       " array(['we may', 'may encounter', 'encounter many', 'many defeats',\n",
       "        'defeats but', 'but we', 'we must', 'must not', 'not be',\n",
       "        'be defeated'], dtype='<U17'),\n",
       " array(['life is', 'is either', 'either daring', 'daring adventure',\n",
       "        'adventure or', 'or nothing'], dtype='<U17')]"
      ]
     },
     "execution_count": 8,
     "metadata": {},
     "output_type": "execute_result"
    }
   ],
   "source": [
    "n_gram_vectorizer.inverse_transform(transformed_vector)"
   ]
  },
  {
   "cell_type": "code",
   "execution_count": 9,
   "metadata": {},
   "outputs": [
    {
     "data": {
      "text/plain": [
       "{'the': 68,\n",
       " 'pessimist': 58,\n",
       " 'sees': 60,\n",
       " 'difficulty': 11,\n",
       " 'in': 27,\n",
       " 'every': 19,\n",
       " 'opportunity': 52,\n",
       " 'the pessimist': 70,\n",
       " 'pessimist sees': 59,\n",
       " 'sees difficulty': 61,\n",
       " 'difficulty in': 12,\n",
       " 'in every': 28,\n",
       " 'every opportunity': 21,\n",
       " 'optimist': 54,\n",
       " 'the optimist': 69,\n",
       " 'optimist sees': 55,\n",
       " 'sees opportunity': 62,\n",
       " 'opportunity in': 53,\n",
       " 'every difficulty': 20,\n",
       " 'don': 13,\n",
       " 'let': 33,\n",
       " 'yesterday': 79,\n",
       " 'take': 64,\n",
       " 'up': 74,\n",
       " 'too': 72,\n",
       " 'much': 43,\n",
       " 'of': 50,\n",
       " 'today': 71,\n",
       " 'don let': 14,\n",
       " 'let yesterday': 34,\n",
       " 'yesterday take': 80,\n",
       " 'take up': 65,\n",
       " 'up too': 75,\n",
       " 'too much': 73,\n",
       " 'much of': 44,\n",
       " 'of today': 51,\n",
       " 'you': 81,\n",
       " 'learn': 31,\n",
       " 'more': 41,\n",
       " 'from': 24,\n",
       " 'failure': 22,\n",
       " 'than': 66,\n",
       " 'success': 63,\n",
       " 'you learn': 82,\n",
       " 'learn more': 32,\n",
       " 'more from': 42,\n",
       " 'from failure': 25,\n",
       " 'failure than': 23,\n",
       " 'than from': 67,\n",
       " 'from success': 26,\n",
       " 'we': 76,\n",
       " 'may': 39,\n",
       " 'encounter': 17,\n",
       " 'many': 37,\n",
       " 'defeats': 9,\n",
       " 'but': 4,\n",
       " 'must': 45,\n",
       " 'not': 47,\n",
       " 'be': 2,\n",
       " 'defeated': 8,\n",
       " 'we may': 77,\n",
       " 'may encounter': 40,\n",
       " 'encounter many': 18,\n",
       " 'many defeats': 38,\n",
       " 'defeats but': 10,\n",
       " 'but we': 5,\n",
       " 'we must': 78,\n",
       " 'must not': 46,\n",
       " 'not be': 48,\n",
       " 'be defeated': 3,\n",
       " 'life': 35,\n",
       " 'is': 29,\n",
       " 'either': 15,\n",
       " 'daring': 6,\n",
       " 'adventure': 0,\n",
       " 'or': 56,\n",
       " 'nothing': 49,\n",
       " 'life is': 36,\n",
       " 'is either': 30,\n",
       " 'either daring': 16,\n",
       " 'daring adventure': 7,\n",
       " 'adventure or': 1,\n",
       " 'or nothing': 57}"
      ]
     },
     "execution_count": 9,
     "metadata": {},
     "output_type": "execute_result"
    }
   ],
   "source": [
    "n_gram_vectorizer = CountVectorizer(ngram_range=(1, 2))\n",
    "\n",
    "transformed_vector = n_gram_vectorizer.fit_transform(train_text)\n",
    "\n",
    "n_gram_vectorizer.vocabulary_"
   ]
  },
  {
   "cell_type": "code",
   "execution_count": 10,
   "metadata": {},
   "outputs": [
    {
     "data": {
      "text/plain": [
       "array([[0, 0, 0, 0, 0, 0, 0, 0, 0, 0, 0, 1, 1, 0, 0, 0, 0, 0, 0, 1, 0, 1,\n",
       "        0, 0, 0, 0, 0, 1, 1, 0, 0, 0, 0, 0, 0, 0, 0, 0, 0, 0, 0, 0, 0, 0,\n",
       "        0, 0, 0, 0, 0, 0, 0, 0, 1, 0, 0, 0, 0, 0, 1, 1, 1, 1, 0, 0, 0, 0,\n",
       "        0, 0, 1, 0, 1, 0, 0, 0, 0, 0, 0, 0, 0, 0, 0, 0, 0],\n",
       "       [0, 0, 0, 0, 0, 0, 0, 0, 0, 0, 0, 1, 0, 0, 0, 0, 0, 0, 0, 1, 1, 0,\n",
       "        0, 0, 0, 0, 0, 1, 1, 0, 0, 0, 0, 0, 0, 0, 0, 0, 0, 0, 0, 0, 0, 0,\n",
       "        0, 0, 0, 0, 0, 0, 0, 0, 1, 1, 1, 1, 0, 0, 0, 0, 1, 0, 1, 0, 0, 0,\n",
       "        0, 0, 1, 1, 0, 0, 0, 0, 0, 0, 0, 0, 0, 0, 0, 0, 0],\n",
       "       [0, 0, 0, 0, 0, 0, 0, 0, 0, 0, 0, 0, 0, 1, 1, 0, 0, 0, 0, 0, 0, 0,\n",
       "        0, 0, 0, 0, 0, 0, 0, 0, 0, 0, 0, 1, 1, 0, 0, 0, 0, 0, 0, 0, 0, 1,\n",
       "        1, 0, 0, 0, 0, 0, 1, 1, 0, 0, 0, 0, 0, 0, 0, 0, 0, 0, 0, 0, 1, 1,\n",
       "        0, 0, 0, 0, 0, 1, 1, 1, 1, 1, 0, 0, 0, 1, 1, 0, 0],\n",
       "       [0, 0, 0, 0, 0, 0, 0, 0, 0, 0, 0, 0, 0, 0, 0, 0, 0, 0, 0, 0, 0, 0,\n",
       "        1, 1, 2, 1, 1, 0, 0, 0, 0, 1, 1, 0, 0, 0, 0, 0, 0, 0, 0, 1, 1, 0,\n",
       "        0, 0, 0, 0, 0, 0, 0, 0, 0, 0, 0, 0, 0, 0, 0, 0, 0, 0, 0, 1, 0, 0,\n",
       "        1, 1, 0, 0, 0, 0, 0, 0, 0, 0, 0, 0, 0, 0, 0, 1, 1],\n",
       "       [0, 0, 1, 1, 1, 1, 0, 0, 1, 1, 1, 0, 0, 0, 0, 0, 0, 1, 1, 0, 0, 0,\n",
       "        0, 0, 0, 0, 0, 0, 0, 0, 0, 0, 0, 0, 0, 0, 0, 1, 1, 1, 1, 0, 0, 0,\n",
       "        0, 1, 1, 1, 1, 0, 0, 0, 0, 0, 0, 0, 0, 0, 0, 0, 0, 0, 0, 0, 0, 0,\n",
       "        0, 0, 0, 0, 0, 0, 0, 0, 0, 0, 2, 1, 1, 0, 0, 0, 0],\n",
       "       [1, 1, 0, 0, 0, 0, 1, 1, 0, 0, 0, 0, 0, 0, 0, 1, 1, 0, 0, 0, 0, 0,\n",
       "        0, 0, 0, 0, 0, 0, 0, 1, 1, 0, 0, 0, 0, 1, 1, 0, 0, 0, 0, 0, 0, 0,\n",
       "        0, 0, 0, 0, 0, 1, 0, 0, 0, 0, 0, 0, 1, 1, 0, 0, 0, 0, 0, 0, 0, 0,\n",
       "        0, 0, 0, 0, 0, 0, 0, 0, 0, 0, 0, 0, 0, 0, 0, 0, 0]], dtype=int64)"
      ]
     },
     "execution_count": 10,
     "metadata": {},
     "output_type": "execute_result"
    }
   ],
   "source": [
    "transformed_vector.toarray()"
   ]
  },
  {
   "cell_type": "code",
   "execution_count": 11,
   "metadata": {},
   "outputs": [
    {
     "data": {
      "text/plain": [
       "(6, 83)"
      ]
     },
     "execution_count": 11,
     "metadata": {},
     "output_type": "execute_result"
    }
   ],
   "source": [
    "transformed_vector.toarray().shape"
   ]
  },
  {
   "cell_type": "code",
   "execution_count": 12,
   "metadata": {},
   "outputs": [
    {
     "data": {
      "text/plain": [
       "[array(['the', 'pessimist', 'sees', 'difficulty', 'in', 'every',\n",
       "        'opportunity', 'the pessimist', 'pessimist sees',\n",
       "        'sees difficulty', 'difficulty in', 'in every',\n",
       "        'every opportunity'], dtype='<U17'),\n",
       " array(['the', 'sees', 'difficulty', 'in', 'every', 'opportunity',\n",
       "        'in every', 'optimist', 'the optimist', 'optimist sees',\n",
       "        'sees opportunity', 'opportunity in', 'every difficulty'],\n",
       "       dtype='<U17'),\n",
       " array(['don', 'let', 'yesterday', 'take', 'up', 'too', 'much', 'of',\n",
       "        'today', 'don let', 'let yesterday', 'yesterday take', 'take up',\n",
       "        'up too', 'too much', 'much of', 'of today'], dtype='<U17'),\n",
       " array(['you', 'learn', 'more', 'from', 'failure', 'than', 'success',\n",
       "        'you learn', 'learn more', 'more from', 'from failure',\n",
       "        'failure than', 'than from', 'from success'], dtype='<U17'),\n",
       " array(['we', 'may', 'encounter', 'many', 'defeats', 'but', 'must', 'not',\n",
       "        'be', 'defeated', 'we may', 'may encounter', 'encounter many',\n",
       "        'many defeats', 'defeats but', 'but we', 'we must', 'must not',\n",
       "        'not be', 'be defeated'], dtype='<U17'),\n",
       " array(['life', 'is', 'either', 'daring', 'adventure', 'or', 'nothing',\n",
       "        'life is', 'is either', 'either daring', 'daring adventure',\n",
       "        'adventure or', 'or nothing'], dtype='<U17')]"
      ]
     },
     "execution_count": 12,
     "metadata": {},
     "output_type": "execute_result"
    }
   ],
   "source": [
    "n_gram_vectorizer.inverse_transform(transformed_vector)"
   ]
  },
  {
   "cell_type": "code",
   "execution_count": null,
   "metadata": {},
   "outputs": [],
   "source": []
  }
 ],
 "metadata": {
  "kernelspec": {
   "display_name": "Python 3",
   "language": "python",
   "name": "python3"
  },
  "language_info": {
   "codemirror_mode": {
    "name": "ipython",
    "version": 3
   },
   "file_extension": ".py",
   "mimetype": "text/x-python",
   "name": "python",
   "nbconvert_exporter": "python",
   "pygments_lexer": "ipython3",
   "version": "3.8.5"
  }
 },
 "nbformat": 4,
 "nbformat_minor": 4
}
